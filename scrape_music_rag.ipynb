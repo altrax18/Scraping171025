{
 "cells": [
  {
   "cell_type": "markdown",
   "id": "9cd14982",
   "metadata": {},
   "source": [
    "Celda 1: Instalación y configuración inicial"
   ]
  },
  {
   "cell_type": "code",
   "execution_count": 18,
   "id": "616af743",
   "metadata": {},
   "outputs": [],
   "source": [
    "!pip install playwright nest_asyncio sentence-transformers --quiet\n",
    "!playwright install\n",
    "\n",
    "import nest_asyncio\n",
    "nest_asyncio.apply()\n",
    "\n"
   ]
  },
  {
   "cell_type": "markdown",
   "id": "bae2d07c",
   "metadata": {},
   "source": [
    "Celda 2: Importaciones y configuración"
   ]
  },
  {
   "cell_type": "code",
   "execution_count": 19,
   "id": "8b284fda",
   "metadata": {},
   "outputs": [],
   "source": [
    "import asyncio\n",
    "import json\n",
    "import re\n",
    "from pathlib import Path\n",
    "from playwright.async_api import async_playwright\n",
    "from sentence_transformers import SentenceTransformer\n",
    "import numpy as np\n",
    "\n",
    "BASE_URL = \"https://www.discogs.com\"\n",
    "OUTPUT_FILE = \"music_data.json\"\n",
    "MAX_PAGES = 1\n",
    "EMBED_MODEL = \"all-MiniLM-L6-v2\"\n",
    "HEADLESS = True\n"
   ]
  },
  {
   "cell_type": "markdown",
   "id": "0ac40f5b",
   "metadata": {},
   "source": [
    "Celda 3: Funciones"
   ]
  },
  {
   "cell_type": "code",
   "execution_count": 20,
   "id": "a7934917",
   "metadata": {},
   "outputs": [],
   "source": [
    "async def scrape_music_site(max_pages=MAX_PAGES):\n",
    "    print(\"🎵 Iniciando scraping musical en Discogs...\")\n",
    "    results = []\n",
    "\n",
    "    async with async_playwright() as p:\n",
    "        browser = await p.chromium.launch(headless=HEADLESS)\n",
    "        context = await browser.new_context()\n",
    "        page = await context.new_page()\n",
    "        await page.goto(f\"{BASE_URL}/search/?q=&type=release\")\n",
    "        await page.wait_for_timeout(3000)\n",
    "\n",
    "        items = await page.query_selector_all(\".card, .search_result, article, .card_release, li\")\n",
    "        for idx, it in enumerate(items):\n",
    "            try:\n",
    "                title_el = await it.query_selector(\"h4, .card__title, .search_result_title, a.card_release_title\")\n",
    "                title = (await title_el.inner_text()).strip() if title_el else \"\"\n",
    "                artist_el = await it.query_selector(\".card__artist, .search_result_artist, .card_release_artist, .artist\")\n",
    "                artist = (await artist_el.inner_text()).strip() if artist_el else \"\"\n",
    "                anchor = await it.query_selector(\"a\")\n",
    "                href = await anchor.get_attribute(\"href\") if anchor else \"\"\n",
    "                if not href or not re.search(r\"/release/\\d+|/master/\\d+\", href):\n",
    "                    continue\n",
    "                url = href if href.startswith(\"http\") else (BASE_URL + href)\n",
    "                text_blob = \" | \".join(filter(None, [title, artist]))\n",
    "                doc_id = f\"pg0_i{idx}\"\n",
    "                results.append({\n",
    "                    \"doc_id\": doc_id,\n",
    "                    \"title\": title,\n",
    "                    \"artist\": artist,\n",
    "                    \"url\": url,\n",
    "                    \"text\": text_blob\n",
    "                })\n",
    "            except Exception as e:\n",
    "                print(f\"⚠️ Error parseando item {idx}: {e}\")\n",
    "                continue\n",
    "\n",
    "        await browser.close()\n",
    "    print(f\"\\n✅ Scraping finalizado. Total: {len(results)} elementos extraídos.\")\n",
    "    return results\n",
    "\n",
    "def embed_music_data(docs, model_name=EMBED_MODEL):\n",
    "    print(\"🧠 Generando embeddings con\", model_name)\n",
    "    model = SentenceTransformer(model_name)\n",
    "    texts = [d.get(\"text\", \"\") for d in docs]\n",
    "    embeddings = model.encode(texts, show_progress_bar=True, convert_to_numpy=True)\n",
    "    for i, d in enumerate(docs):\n",
    "        d[\"embedding\"] = embeddings[i].tolist()\n",
    "    print(\"✅ Embeddings completados.\")\n",
    "    return docs\n",
    "\n",
    "def save_json(data, filename=OUTPUT_FILE):\n",
    "    p = Path(filename)\n",
    "    p.parent.mkdir(parents=True, exist_ok=True)\n",
    "    with p.open(\"w\", encoding=\"utf-8\") as f:\n",
    "        json.dump(data, f, ensure_ascii=False, indent=2)\n",
    "    print(f\"💾 Datos guardados en {filename}\")\n"
   ]
  },
  {
   "cell_type": "markdown",
   "id": "4fec844e",
   "metadata": {},
   "source": [
    "Celda 4: Ejecutar scraping y embeddings"
   ]
  },
  {
   "cell_type": "code",
   "execution_count": 23,
   "id": "9717f74c",
   "metadata": {},
   "outputs": [
    {
     "name": "stdout",
     "output_type": "stream",
     "text": [
      "🎵 Iniciando scraping musical en Discogs...\n"
     ]
    },
    {
     "ename": "NotImplementedError",
     "evalue": "",
     "output_type": "error",
     "traceback": [
      "\u001b[31m---------------------------------------------------------------------------\u001b[39m",
      "\u001b[31mNotImplementedError\u001b[39m                       Traceback (most recent call last)",
      "\u001b[36mCell\u001b[39m\u001b[36m \u001b[39m\u001b[32mIn[23]\u001b[39m\u001b[32m, line 1\u001b[39m\n\u001b[32m----> \u001b[39m\u001b[32m1\u001b[39m docs = \u001b[38;5;28;01mawait\u001b[39;00m scrape_music_site(max_pages=MAX_PAGES)\n\u001b[32m      2\u001b[39m embedded_docs = embed_music_data(docs)\n\u001b[32m      3\u001b[39m save_json(embedded_docs, OUTPUT_FILE)\n",
      "\u001b[36mCell\u001b[39m\u001b[36m \u001b[39m\u001b[32mIn[20]\u001b[39m\u001b[32m, line 5\u001b[39m, in \u001b[36mscrape_music_site\u001b[39m\u001b[34m(max_pages)\u001b[39m\n\u001b[32m      2\u001b[39m \u001b[38;5;28mprint\u001b[39m(\u001b[33m\"\u001b[39m\u001b[33m🎵 Iniciando scraping musical en Discogs...\u001b[39m\u001b[33m\"\u001b[39m)\n\u001b[32m      3\u001b[39m results = []\n\u001b[32m----> \u001b[39m\u001b[32m5\u001b[39m \u001b[38;5;28;01masync\u001b[39;00m \u001b[38;5;28;01mwith\u001b[39;00m async_playwright() \u001b[38;5;28;01mas\u001b[39;00m p:\n\u001b[32m      6\u001b[39m     browser = \u001b[38;5;28;01mawait\u001b[39;00m p.chromium.launch(headless=HEADLESS)\n\u001b[32m      7\u001b[39m     context = \u001b[38;5;28;01mawait\u001b[39;00m browser.new_context()\n",
      "\u001b[36mFile \u001b[39m\u001b[32mc:\\Users\\bryan\\Desktop\\proyectosClase\\scraping\\Scraping171025\\.venv311\\Lib\\site-packages\\playwright\\async_api\\_context_manager.py:46\u001b[39m, in \u001b[36mPlaywrightContextManager.__aenter__\u001b[39m\u001b[34m(self)\u001b[39m\n\u001b[32m     44\u001b[39m \u001b[38;5;28;01mif\u001b[39;00m \u001b[38;5;129;01mnot\u001b[39;00m playwright_future.done():\n\u001b[32m     45\u001b[39m     playwright_future.cancel()\n\u001b[32m---> \u001b[39m\u001b[32m46\u001b[39m playwright = AsyncPlaywright(\u001b[38;5;28;43mnext\u001b[39;49m\u001b[43m(\u001b[49m\u001b[38;5;28;43miter\u001b[39;49m\u001b[43m(\u001b[49m\u001b[43mdone\u001b[49m\u001b[43m)\u001b[49m\u001b[43m)\u001b[49m\u001b[43m.\u001b[49m\u001b[43mresult\u001b[49m\u001b[43m(\u001b[49m\u001b[43m)\u001b[49m)\n\u001b[32m     47\u001b[39m playwright.stop = \u001b[38;5;28mself\u001b[39m.\u001b[34m__aexit__\u001b[39m  \u001b[38;5;66;03m# type: ignore\u001b[39;00m\n\u001b[32m     48\u001b[39m \u001b[38;5;28;01mreturn\u001b[39;00m playwright\n",
      "\u001b[36mFile \u001b[39m\u001b[32m~\\AppData\\Local\\Programs\\Python\\Python311\\Lib\\asyncio\\futures.py:203\u001b[39m, in \u001b[36mFuture.result\u001b[39m\u001b[34m(self)\u001b[39m\n\u001b[32m    201\u001b[39m \u001b[38;5;28mself\u001b[39m.__log_traceback = \u001b[38;5;28;01mFalse\u001b[39;00m\n\u001b[32m    202\u001b[39m \u001b[38;5;28;01mif\u001b[39;00m \u001b[38;5;28mself\u001b[39m._exception \u001b[38;5;129;01mis\u001b[39;00m \u001b[38;5;129;01mnot\u001b[39;00m \u001b[38;5;28;01mNone\u001b[39;00m:\n\u001b[32m--> \u001b[39m\u001b[32m203\u001b[39m     \u001b[38;5;28;01mraise\u001b[39;00m \u001b[38;5;28mself\u001b[39m._exception.with_traceback(\u001b[38;5;28mself\u001b[39m._exception_tb)\n\u001b[32m    204\u001b[39m \u001b[38;5;28;01mreturn\u001b[39;00m \u001b[38;5;28mself\u001b[39m._result\n",
      "\u001b[36mFile \u001b[39m\u001b[32mc:\\Users\\bryan\\Desktop\\proyectosClase\\scraping\\Scraping171025\\.venv311\\Lib\\site-packages\\playwright\\_impl\\_transport.py:120\u001b[39m, in \u001b[36mPipeTransport.connect\u001b[39m\u001b[34m(self)\u001b[39m\n\u001b[32m    117\u001b[39m         startupinfo.wShowWindow = subprocess.SW_HIDE\n\u001b[32m    119\u001b[39m     executable_path, entrypoint_path = compute_driver_executable()\n\u001b[32m--> \u001b[39m\u001b[32m120\u001b[39m     \u001b[38;5;28mself\u001b[39m._proc = \u001b[38;5;28;01mawait\u001b[39;00m asyncio.create_subprocess_exec(\n\u001b[32m    121\u001b[39m         executable_path,\n\u001b[32m    122\u001b[39m         entrypoint_path,\n\u001b[32m    123\u001b[39m         \u001b[33m\"\u001b[39m\u001b[33mrun-driver\u001b[39m\u001b[33m\"\u001b[39m,\n\u001b[32m    124\u001b[39m         stdin=asyncio.subprocess.PIPE,\n\u001b[32m    125\u001b[39m         stdout=asyncio.subprocess.PIPE,\n\u001b[32m    126\u001b[39m         stderr=_get_stderr_fileno(),\n\u001b[32m    127\u001b[39m         limit=\u001b[32m32768\u001b[39m,\n\u001b[32m    128\u001b[39m         env=env,\n\u001b[32m    129\u001b[39m         startupinfo=startupinfo,\n\u001b[32m    130\u001b[39m     )\n\u001b[32m    131\u001b[39m \u001b[38;5;28;01mexcept\u001b[39;00m \u001b[38;5;167;01mException\u001b[39;00m \u001b[38;5;28;01mas\u001b[39;00m exc:\n\u001b[32m    132\u001b[39m     \u001b[38;5;28mself\u001b[39m.on_error_future.set_exception(exc)\n",
      "\u001b[36mFile \u001b[39m\u001b[32m~\\AppData\\Local\\Programs\\Python\\Python311\\Lib\\asyncio\\subprocess.py:218\u001b[39m, in \u001b[36mcreate_subprocess_exec\u001b[39m\u001b[34m(program, stdin, stdout, stderr, limit, *args, **kwds)\u001b[39m\n\u001b[32m    215\u001b[39m loop = events.get_running_loop()\n\u001b[32m    216\u001b[39m protocol_factory = \u001b[38;5;28;01mlambda\u001b[39;00m: SubprocessStreamProtocol(limit=limit,\n\u001b[32m    217\u001b[39m                                                     loop=loop)\n\u001b[32m--> \u001b[39m\u001b[32m218\u001b[39m transport, protocol = \u001b[38;5;28;01mawait\u001b[39;00m loop.subprocess_exec(\n\u001b[32m    219\u001b[39m     protocol_factory,\n\u001b[32m    220\u001b[39m     program, *args,\n\u001b[32m    221\u001b[39m     stdin=stdin, stdout=stdout,\n\u001b[32m    222\u001b[39m     stderr=stderr, **kwds)\n\u001b[32m    223\u001b[39m \u001b[38;5;28;01mreturn\u001b[39;00m Process(transport, protocol, loop)\n",
      "\u001b[36mFile \u001b[39m\u001b[32m~\\AppData\\Local\\Programs\\Python\\Python311\\Lib\\asyncio\\base_events.py:1680\u001b[39m, in \u001b[36mBaseEventLoop.subprocess_exec\u001b[39m\u001b[34m(self, protocol_factory, program, stdin, stdout, stderr, universal_newlines, shell, bufsize, encoding, errors, text, *args, **kwargs)\u001b[39m\n\u001b[32m   1678\u001b[39m     debug_log = \u001b[33mf\u001b[39m\u001b[33m'\u001b[39m\u001b[33mexecute program \u001b[39m\u001b[38;5;132;01m{\u001b[39;00mprogram\u001b[38;5;132;01m!r}\u001b[39;00m\u001b[33m'\u001b[39m\n\u001b[32m   1679\u001b[39m     \u001b[38;5;28mself\u001b[39m._log_subprocess(debug_log, stdin, stdout, stderr)\n\u001b[32m-> \u001b[39m\u001b[32m1680\u001b[39m transport = \u001b[38;5;28;01mawait\u001b[39;00m \u001b[38;5;28mself\u001b[39m._make_subprocess_transport(\n\u001b[32m   1681\u001b[39m     protocol, popen_args, \u001b[38;5;28;01mFalse\u001b[39;00m, stdin, stdout, stderr,\n\u001b[32m   1682\u001b[39m     bufsize, **kwargs)\n\u001b[32m   1683\u001b[39m \u001b[38;5;28;01mif\u001b[39;00m \u001b[38;5;28mself\u001b[39m._debug \u001b[38;5;129;01mand\u001b[39;00m debug_log \u001b[38;5;129;01mis\u001b[39;00m \u001b[38;5;129;01mnot\u001b[39;00m \u001b[38;5;28;01mNone\u001b[39;00m:\n\u001b[32m   1684\u001b[39m     logger.info(\u001b[33m'\u001b[39m\u001b[38;5;132;01m%s\u001b[39;00m\u001b[33m: \u001b[39m\u001b[38;5;132;01m%r\u001b[39;00m\u001b[33m'\u001b[39m, debug_log, transport)\n",
      "\u001b[36mFile \u001b[39m\u001b[32m~\\AppData\\Local\\Programs\\Python\\Python311\\Lib\\asyncio\\base_events.py:502\u001b[39m, in \u001b[36mBaseEventLoop._make_subprocess_transport\u001b[39m\u001b[34m(self, protocol, args, shell, stdin, stdout, stderr, bufsize, extra, **kwargs)\u001b[39m\n\u001b[32m    498\u001b[39m \u001b[38;5;28;01masync\u001b[39;00m \u001b[38;5;28;01mdef\u001b[39;00m\u001b[38;5;250m \u001b[39m\u001b[34m_make_subprocess_transport\u001b[39m(\u001b[38;5;28mself\u001b[39m, protocol, args, shell,\n\u001b[32m    499\u001b[39m                                      stdin, stdout, stderr, bufsize,\n\u001b[32m    500\u001b[39m                                      extra=\u001b[38;5;28;01mNone\u001b[39;00m, **kwargs):\n\u001b[32m    501\u001b[39m \u001b[38;5;250m    \u001b[39m\u001b[33;03m\"\"\"Create subprocess transport.\"\"\"\u001b[39;00m\n\u001b[32m--> \u001b[39m\u001b[32m502\u001b[39m     \u001b[38;5;28;01mraise\u001b[39;00m \u001b[38;5;167;01mNotImplementedError\u001b[39;00m\n",
      "\u001b[31mNotImplementedError\u001b[39m: "
     ]
    }
   ],
   "source": [
    "docs = await scrape_music_site(max_pages=MAX_PAGES)\n",
    "embedded_docs = embed_music_data(docs)\n",
    "save_json(embedded_docs, OUTPUT_FILE)\n",
    "\n",
    "\n",
    "\n"
   ]
  },
  {
   "cell_type": "markdown",
   "id": "aa53436d",
   "metadata": {},
   "source": [
    "Celda 5: Mini chat RAG (opcional)"
   ]
  },
  {
   "cell_type": "code",
   "execution_count": 11,
   "id": "c4eb7ca1",
   "metadata": {},
   "outputs": [],
   "source": [
    "def rag_console():\n",
    "    print(\"💬 RAG Console iniciada. Escribe 'salir' para terminar.\\n\")\n",
    "    model = SentenceTransformer(EMBED_MODEL)\n",
    "    texts = [d[\"text\"] for d in embedded_docs]\n",
    "    embeddings = np.array([d[\"embedding\"] for d in embedded_docs])\n",
    "\n",
    "    while True:\n",
    "        query = input(\"Pregunta 🎵: rock\")\n",
    "        if query.lower() in (\"salir\", \"exit\", \"quit\"):\n",
    "            print(\"👋 Cerrando RAG Console.\")\n",
    "            break\n",
    "\n",
    "        q_emb = model.encode([query], convert_to_numpy=True)\n",
    "        scores = (embeddings @ q_emb.T).squeeze()\n",
    "        top_idx = np.argsort(scores)[::-1][:3]\n",
    "\n",
    "        print(\"\\n🔹 Respuestas más relevantes:\")\n",
    "        for i in top_idx:\n",
    "            print(f\"- {texts[i]} (URL: {embedded_docs[i]['url']})\")\n",
    "        print(\"\\n\" + \"-\"*50 + \"\\n\")\n",
    "\n",
    "# Puedes probarlo con:\n",
    "# rag_console()\n"
   ]
  }
 ],
 "metadata": {
  "kernelspec": {
   "display_name": ".venv311",
   "language": "python",
   "name": "python3"
  },
  "language_info": {
   "codemirror_mode": {
    "name": "ipython",
    "version": 3
   },
   "file_extension": ".py",
   "mimetype": "text/x-python",
   "name": "python",
   "nbconvert_exporter": "python",
   "pygments_lexer": "ipython3",
   "version": "3.11.0"
  }
 },
 "nbformat": 4,
 "nbformat_minor": 5
}
